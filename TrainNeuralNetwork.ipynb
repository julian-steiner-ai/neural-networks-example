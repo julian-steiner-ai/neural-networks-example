{
 "cells": [
  {
   "attachments": {},
   "cell_type": "markdown",
   "metadata": {},
   "source": [
    "# Deep Neural Netowrk - Example"
   ]
  },
  {
   "cell_type": "code",
   "execution_count": 1,
   "metadata": {},
   "outputs": [],
   "source": [
    "import numpy as np\n",
    "import matplotlib.pyplot as plt\n",
    "\n",
    "from sklearn.datasets import load_diabetes\n",
    "from sklearn.model_selection import train_test_split"
   ]
  },
  {
   "cell_type": "code",
   "execution_count": 2,
   "metadata": {},
   "outputs": [],
   "source": [
    "import sys\n",
    "\n",
    "sys.path.append('./neural-networks/')\n",
    "\n",
    "from loss.mean_squared_error import MeanSquaredError\n",
    "from operation.activation.linear import Linear\n",
    "from operation.activation.sigmoid import Sigmoid\n",
    "from layer.dense_layer import Dense\n",
    "from nn.neural_network import NeuralNetwork\n",
    "from trainer.trainer import Trainer\n",
    "from optimizer.sgd import SGD\n",
    "from utils.utils import to_2d"
   ]
  },
  {
   "attachments": {},
   "cell_type": "markdown",
   "metadata": {},
   "source": [
    "## Data"
   ]
  },
  {
   "attachments": {},
   "cell_type": "markdown",
   "metadata": {},
   "source": [
    "### Load Data"
   ]
  },
  {
   "cell_type": "code",
   "execution_count": 3,
   "metadata": {},
   "outputs": [],
   "source": [
    "diabetes_dataset = load_diabetes()\n",
    "data = diabetes_dataset.data\n",
    "target = diabetes_dataset.target"
   ]
  },
  {
   "cell_type": "code",
   "execution_count": 4,
   "metadata": {},
   "outputs": [
    {
     "data": {
      "text/plain": [
       "['age', 'sex', 'bmi', 'bp', 's1', 's2', 's3', 's4', 's5', 's6']"
      ]
     },
     "execution_count": 4,
     "metadata": {},
     "output_type": "execute_result"
    }
   ],
   "source": [
    "features = diabetes_dataset.feature_names\n",
    "features"
   ]
  },
  {
   "attachments": {},
   "cell_type": "markdown",
   "metadata": {},
   "source": [
    "### Prepare Data"
   ]
  },
  {
   "cell_type": "code",
   "execution_count": 5,
   "metadata": {},
   "outputs": [],
   "source": [
    "X_train, X_test, y_train, y_test = train_test_split(data, target, test_size=0.3, random_state=80718)"
   ]
  },
  {
   "cell_type": "code",
   "execution_count": 6,
   "metadata": {},
   "outputs": [],
   "source": [
    "y_train, y_test = to_2d(y_train), to_2d(y_test)"
   ]
  },
  {
   "attachments": {},
   "cell_type": "markdown",
   "metadata": {},
   "source": [
    "## Model Evaluation"
   ]
  },
  {
   "cell_type": "code",
   "execution_count": 7,
   "metadata": {},
   "outputs": [],
   "source": [
    "def mae(predictions, y_test):\n",
    "    '''\n",
    "    Compute mean absolute error.\n",
    "    '''\n",
    "    return np.mean(np.abs(predictions - y_test))\n",
    "\n",
    "def rmse(predictions, y_test):\n",
    "    '''\n",
    "    Compute root mean squared error.\n",
    "    '''\n",
    "    return np.sqrt(np.mean(np.power(predictions - y_test, 2)))"
   ]
  },
  {
   "cell_type": "code",
   "execution_count": 8,
   "metadata": {},
   "outputs": [],
   "source": [
    "def eval_model(model : NeuralNetwork,\n",
    "                X_test : np.ndarray,\n",
    "                y_test : np.ndarray):\n",
    "    '''\n",
    "    Compute mae and rmse for a neural network.\n",
    "    '''\n",
    "    preds = model.forward(X_test)\n",
    "    preds = preds.reshape(-1, 1)\n",
    "\n",
    "    print(\"Mean absolute error: {:.2f}\".format(mae(preds, y_test)))\n",
    "    print()\n",
    "    print(\"Root mean squared error {:.2f}\".format(rmse(preds, y_test)))"
   ]
  },
  {
   "cell_type": "code",
   "execution_count": 9,
   "metadata": {},
   "outputs": [],
   "source": [
    "def plot(model, X_test, y_test):\n",
    "    preds = model.forward(X_test)\n",
    "    preds = preds.reshape(-1, 1)\n",
    "\n",
    "    plt.xlabel(\"Predicted value\")\n",
    "    plt.ylabel(\"Target\")\n",
    "    plt.title(\"Predicted value vs. target,\\n neural network regression\")\n",
    "    plt.scatter(preds, y_test)"
   ]
  },
  {
   "attachments": {},
   "cell_type": "markdown",
   "metadata": {},
   "source": [
    "## Declare Some Neural Network"
   ]
  },
  {
   "attachments": {},
   "cell_type": "markdown",
   "metadata": {},
   "source": [
    "### Linear Regression"
   ]
  },
  {
   "cell_type": "code",
   "execution_count": 10,
   "metadata": {},
   "outputs": [],
   "source": [
    "linear_regression = NeuralNetwork(\n",
    "    layers=[\n",
    "        Dense(neurons=1, activation=Linear())\n",
    "    ],\n",
    "    loss=MeanSquaredError(),\n",
    "    seed=20190501\n",
    ")"
   ]
  },
  {
   "cell_type": "code",
   "execution_count": 11,
   "metadata": {},
   "outputs": [],
   "source": [
    "trainer = Trainer(linear_regression, SGD(lr=0.01))"
   ]
  },
  {
   "cell_type": "code",
   "execution_count": 12,
   "metadata": {},
   "outputs": [
    {
     "name": "stdout",
     "output_type": "stream",
     "text": [
      "Validation loss after 10 epochs is 6515.883\n",
      "Validation loss after 20 epochs is 5934.496\n",
      "Validation loss after 30 epochs is 5840.589\n",
      "Validation loss after 40 epochs is 5770.440\n",
      "Validation loss after 50 epochs is 5703.059\n",
      "Validation loss after 60 epochs is 5637.455\n",
      "Validation loss after 70 epochs is 5578.504\n",
      "Validation loss after 80 epochs is 5520.762\n",
      "Validation loss after 90 epochs is 5461.046\n",
      "Validation loss after 100 epochs is 5404.740\n"
     ]
    }
   ],
   "source": [
    "trainer.fit(\n",
    "    X_train,\n",
    "    y_train,\n",
    "    X_test,\n",
    "    y_test,\n",
    "    epochs=100,\n",
    "    eval_every=10,\n",
    "    seed=20190501)"
   ]
  },
  {
   "cell_type": "code",
   "execution_count": 13,
   "metadata": {},
   "outputs": [
    {
     "name": "stdout",
     "output_type": "stream",
     "text": [
      "Mean absolute error: 64.29\n",
      "\n",
      "Root mean squared error 73.52\n"
     ]
    }
   ],
   "source": [
    "eval_model(linear_regression, X_test, y_test)"
   ]
  },
  {
   "cell_type": "code",
   "execution_count": 14,
   "metadata": {},
   "outputs": [
    {
     "data": {
      "image/png": "[encoded data removed]",
      "text/plain": [
       "<Figure size 640x480 with 1 Axes>"
      ]
     },
     "metadata": {},
     "output_type": "display_data"
    }
   ],
   "source": [
    "plot(linear_regression, X_test, y_test)"
   ]
  },
  {
   "attachments": {},
   "cell_type": "markdown",
   "metadata": {},
   "source": [
    "### Deep Neural Network"
   ]
  },
  {
   "cell_type": "code",
   "execution_count": 15,
   "metadata": {},
   "outputs": [],
   "source": [
    "nn = NeuralNetwork(\n",
    "    layers=[Dense(neurons=13, activation=Sigmoid()),\n",
    "            Dense(neurons=10, activation=Sigmoid()),\n",
    "            Dense(neurons=13, activation=Sigmoid()),\n",
    "            Dense(neurons=15, activation=Sigmoid()),\n",
    "            Dense(neurons=13, activation=Sigmoid()),\n",
    "            Dense(neurons=1, activation=Linear())],\n",
    "    loss=MeanSquaredError(),\n",
    "    seed=20190501\n",
    ")"
   ]
  },
  {
   "cell_type": "code",
   "execution_count": 16,
   "metadata": {},
   "outputs": [
    {
     "name": "stdout",
     "output_type": "stream",
     "text": [
      "Validation loss after 10 epochs is 6042.980\n",
      "Validation loss after 20 epochs is 6046.732\n",
      "Validation loss after 30 epochs is 6083.404\n",
      "Validation loss after 40 epochs is 6041.051\n",
      "Validation loss after 50 epochs is 6045.433\n",
      "Validation loss after 60 epochs is 6047.726\n",
      "Validation loss after 70 epochs is 6040.851\n",
      "Validation loss after 80 epochs is 6089.069\n",
      "Validation loss after 90 epochs is 6120.953\n",
      "Validation loss after 100 epochs is 6072.691\n",
      "Validation loss after 110 epochs is 6042.367\n",
      "Validation loss after 120 epochs is 6073.405\n",
      "Validation loss after 130 epochs is 6049.239\n",
      "Validation loss after 140 epochs is 6085.956\n",
      "Validation loss after 150 epochs is 6025.540\n",
      "Validation loss after 160 epochs is 6078.215\n",
      "Validation loss after 170 epochs is 6082.446\n",
      "Validation loss after 180 epochs is 6042.531\n",
      "Validation loss after 190 epochs is 6042.852\n",
      "Validation loss after 200 epochs is 6182.540\n",
      "Validation loss after 210 epochs is 6042.726\n",
      "Validation loss after 220 epochs is 6058.362\n",
      "Validation loss after 230 epochs is 5791.769\n",
      "Validation loss after 240 epochs is 6040.391\n",
      "Validation loss after 250 epochs is 6140.263\n",
      "Validation loss after 260 epochs is 6073.584\n",
      "Validation loss after 270 epochs is 6047.081\n",
      "Validation loss after 280 epochs is 6040.792\n",
      "Validation loss after 290 epochs is 6050.143\n",
      "Validation loss after 300 epochs is 6043.667\n",
      "Validation loss after 310 epochs is 6042.409\n",
      "Validation loss after 320 epochs is 6117.145\n",
      "Validation loss after 330 epochs is 6049.798\n",
      "Validation loss after 340 epochs is 6056.397\n",
      "Validation loss after 350 epochs is 6050.870\n",
      "Validation loss after 360 epochs is 6058.000\n",
      "Validation loss after 370 epochs is 6062.876\n",
      "Validation loss after 380 epochs is 6052.340\n",
      "Validation loss after 390 epochs is 6042.292\n",
      "Validation loss after 400 epochs is 6068.785\n",
      "Validation loss after 410 epochs is 5260.617\n",
      "Validation loss after 420 epochs is 6043.438\n",
      "Validation loss after 430 epochs is 6049.061\n",
      "Validation loss after 440 epochs is 6046.128\n",
      "Validation loss after 450 epochs is 6062.105\n",
      "Validation loss after 460 epochs is 6044.596\n",
      "Validation loss after 470 epochs is 6072.446\n",
      "Validation loss after 480 epochs is 6051.607\n",
      "Validation loss after 490 epochs is 6044.597\n",
      "Validation loss after 500 epochs is 6065.289\n"
     ]
    }
   ],
   "source": [
    "trainer = Trainer(nn, SGD(lr=0.01))\n",
    "trainer.fit(X_train, y_train, X_test, y_test,\n",
    "       epochs=500,\n",
    "       eval_every=10,\n",
    "       seed=20190501,\n",
    "       early_stopping=False)"
   ]
  },
  {
   "cell_type": "code",
   "execution_count": 17,
   "metadata": {},
   "outputs": [
    {
     "name": "stdout",
     "output_type": "stream",
     "text": [
      "Mean absolute error: 67.42\n",
      "\n",
      "Root mean squared error 77.88\n"
     ]
    }
   ],
   "source": [
    "eval_model(nn, X_test, y_test)"
   ]
  },
  {
   "cell_type": "code",
   "execution_count": 18,
   "metadata": {},
   "outputs": [
    {
     "data": {
      "image/png": "[encoded data removed]",
      "text/plain": [
       "<Figure size 640x480 with 1 Axes>"
      ]
     },
     "metadata": {},
     "output_type": "display_data"
    }
   ],
   "source": [
    "plot(nn, X_test, y_test)"
   ]
  }
 ],
 "metadata": {
  "kernelspec": {
   "display_name": "Python 3",
   "language": "python",
   "name": "python3"
  },
  "language_info": {
   "codemirror_mode": {
    "name": "ipython",
    "version": 3
   },
   "file_extension": ".py",
   "mimetype": "text/x-python",
   "name": "python",
   "nbconvert_exporter": "python",
   "pygments_lexer": "ipython3",
   "version": "3.10.9"
  },
  "orig_nbformat": 4
 },
 "nbformat": 4,
 "nbformat_minor": 2
}
