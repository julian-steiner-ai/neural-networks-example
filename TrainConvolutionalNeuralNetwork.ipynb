{
 "cells": [
  {
   "attachments": {},
   "cell_type": "markdown",
   "metadata": {},
   "source": [
    "# Convolutional Neural Network"
   ]
  },
  {
   "cell_type": "code",
   "execution_count": 15,
   "metadata": {},
   "outputs": [],
   "source": [
    "import numpy as np\n",
    "import matplotlib.pyplot as plt"
   ]
  },
  {
   "cell_type": "code",
   "execution_count": 21,
   "metadata": {},
   "outputs": [],
   "source": [
    "import sys\n",
    "\n",
    "sys.path.append('./neural-networks/')\n",
    "\n",
    "from nn.neural_network import NeuralNetwork\n",
    "from layer.dense_layer import Dense\n",
    "from layer.cnn.conv2D import Conv2D\n",
    "from operation.activation.tanh import Tanh\n",
    "from operation.activation.linear import Linear\n",
    "from loss.softmax_cross_entropy import SoftmaxCrossEntropy\n",
    "from trainer.trainer import Trainer\n",
    "from optimizer.sgd_momentum import SGDMomentum"
   ]
  },
  {
   "attachments": {},
   "cell_type": "markdown",
   "metadata": {},
   "source": [
    "## Data"
   ]
  },
  {
   "attachments": {},
   "cell_type": "markdown",
   "metadata": {},
   "source": [
    "### Download MNIST dataset"
   ]
  },
  {
   "cell_type": "code",
   "execution_count": 2,
   "metadata": {},
   "outputs": [],
   "source": [
    "import gzip\n",
    "import pickle\n",
    "import numpy as np\n",
    "from urllib import request"
   ]
  },
  {
   "cell_type": "code",
   "execution_count": 3,
   "metadata": {},
   "outputs": [],
   "source": [
    "filename = [\n",
    "    [\"training_images\",\"train-images-idx3-ubyte.gz\"],\n",
    "    [\"test_images\",\"t10k-images-idx3-ubyte.gz\"],\n",
    "    [\"training_labels\",\"train-labels-idx1-ubyte.gz\"],\n",
    "    [\"test_labels\",\"t10k-labels-idx1-ubyte.gz\"]\n",
    "]"
   ]
  },
  {
   "cell_type": "code",
   "execution_count": 4,
   "metadata": {},
   "outputs": [],
   "source": [
    "def download_mnist():\n",
    "    base_url = \"http://yann.lecun.com/exdb/mnist/\"\n",
    "    for name in filename:\n",
    "        print(\"Downloading \"+name[1]+\"...\")\n",
    "        request.urlretrieve(base_url+name[1], name[1])\n",
    "    print(\"Download complete.\")"
   ]
  },
  {
   "cell_type": "code",
   "execution_count": 5,
   "metadata": {},
   "outputs": [],
   "source": [
    "def save_mnist():\n",
    "    mnist = {}\n",
    "    for name in filename[:2]:\n",
    "        with gzip.open(name[1], 'rb') as f:\n",
    "            mnist[name[0]] = np.frombuffer(f.read(), np.uint8, offset=16).reshape(-1,28*28)\n",
    "    for name in filename[-2:]:\n",
    "        with gzip.open(name[1], 'rb') as f:\n",
    "            mnist[name[0]] = np.frombuffer(f.read(), np.uint8, offset=8)\n",
    "    with open(\"mnist.pkl\", 'wb') as f:\n",
    "        pickle.dump(mnist,f)\n",
    "    print(\"Save complete.\")"
   ]
  },
  {
   "cell_type": "code",
   "execution_count": 6,
   "metadata": {},
   "outputs": [
    {
     "name": "stdout",
     "output_type": "stream",
     "text": [
      "Downloading train-images-idx3-ubyte.gz...\n",
      "Downloading t10k-images-idx3-ubyte.gz...\n",
      "Downloading train-labels-idx1-ubyte.gz...\n",
      "Downloading t10k-labels-idx1-ubyte.gz...\n",
      "Download complete.\n"
     ]
    }
   ],
   "source": [
    "download_mnist()"
   ]
  },
  {
   "cell_type": "code",
   "execution_count": 7,
   "metadata": {},
   "outputs": [
    {
     "name": "stdout",
     "output_type": "stream",
     "text": [
      "Save complete.\n"
     ]
    }
   ],
   "source": [
    "save_mnist()"
   ]
  },
  {
   "attachments": {},
   "cell_type": "markdown",
   "metadata": {},
   "source": [
    "### Load Data"
   ]
  },
  {
   "cell_type": "code",
   "execution_count": 9,
   "metadata": {},
   "outputs": [],
   "source": [
    "def load():\n",
    "    with open(\"mnist.pkl\",'rb') as f:\n",
    "        mnist = pickle.load(f)\n",
    "    return mnist[\"training_images\"], mnist[\"training_labels\"], mnist[\"test_images\"], mnist[\"test_labels\"]"
   ]
  },
  {
   "cell_type": "code",
   "execution_count": 10,
   "metadata": {},
   "outputs": [],
   "source": [
    "X_train, y_train, X_test, y_test = load()"
   ]
  },
  {
   "cell_type": "code",
   "execution_count": 11,
   "metadata": {},
   "outputs": [],
   "source": [
    "X_train, X_test = X_train - np.mean(X_train), X_test - np.mean(X_train)\n",
    "X_train, X_test = X_train / np.std(X_train), X_test / np.std(X_train)"
   ]
  },
  {
   "cell_type": "code",
   "execution_count": 12,
   "metadata": {},
   "outputs": [],
   "source": [
    "X_train_conv, X_test_conv = X_train.reshape(-1, 1, 28, 28), X_test.reshape(-1, 1, 28, 28)"
   ]
  },
  {
   "cell_type": "code",
   "execution_count": 13,
   "metadata": {},
   "outputs": [],
   "source": [
    "num_labels = len(y_train)\n",
    "train_labels = np.zeros((num_labels, 10))\n",
    "for i in range(num_labels):\n",
    "    train_labels[i][y_train[i]] = 1\n",
    "\n",
    "num_labels = len(y_test)\n",
    "test_labels = np.zeros((num_labels, 10))\n",
    "for i in range(num_labels):\n",
    "    test_labels[i][y_test[i]] = 1"
   ]
  },
  {
   "attachments": {},
   "cell_type": "markdown",
   "metadata": {},
   "source": [
    "### Plot Some Images"
   ]
  },
  {
   "cell_type": "code",
   "execution_count": 22,
   "metadata": {},
   "outputs": [
    {
     "data": {
      "text/plain": [
       "<matplotlib.image.AxesImage at 0x16a96c3dcf0>"
      ]
     },
     "execution_count": 22,
     "metadata": {},
     "output_type": "execute_result"
    },
    {
     "data": {
      "image/png": "[encoded data removed]",
      "text/plain": [
       "<Figure size 640x480 with 1 Axes>"
      ]
     },
     "metadata": {},
     "output_type": "display_data"
    }
   ],
   "source": [
    "plt.imshow(X_test_conv[0][0])"
   ]
  },
  {
   "attachments": {},
   "cell_type": "markdown",
   "metadata": {},
   "source": [
    "## Model Evaluation"
   ]
  },
  {
   "cell_type": "code",
   "execution_count": 14,
   "metadata": {},
   "outputs": [],
   "source": [
    "def calc_accuracy_model(model, test_set):\n",
    "    return print(f'''The model validation accuracy is: \n",
    "    {np.equal(np.argmax(model.forward(test_set, inference=True), axis=1), y_test).sum() * 100.0 / test_set.shape[0]:.2f}%''')"
   ]
  },
  {
   "attachments": {},
   "cell_type": "markdown",
   "metadata": {},
   "source": [
    "## Declare CNN"
   ]
  },
  {
   "cell_type": "code",
   "execution_count": 23,
   "metadata": {},
   "outputs": [],
   "source": [
    "model = NeuralNetwork(\n",
    "    layers=[\n",
    "        Conv2D(out_channels=16,\n",
    "               param_size=5,\n",
    "               dropout=0.8,\n",
    "               weight_init='glorot',\n",
    "               flatten=True,\n",
    "               activation=Tanh()),\n",
    "        Dense(neurons=10,\n",
    "              activation=Linear())],\n",
    "    loss=SoftmaxCrossEntropy(),\n",
    "    seed=20190402\n",
    ")"
   ]
  },
  {
   "cell_type": "code",
   "execution_count": 24,
   "metadata": {},
   "outputs": [
    {
     "name": "stdout",
     "output_type": "stream",
     "text": [
      "batch 0 loss 31.191501893742405\n",
      "batch 10 loss 14.150390490531656\n",
      "batch 20 loss 8.507022903630483\n",
      "batch 30 loss 9.816084750056138\n",
      "batch 40 loss 2.7068954259156857\n",
      "batch 50 loss 5.039109427982678\n",
      "batch 60 loss 3.841380681251465\n",
      "batch 70 loss 8.467400063433397\n",
      "batch 80 loss 5.359037870675346\n",
      "batch 90 loss 2.4433178695926823\n",
      "batch 100 loss 3.933895891802764\n",
      "Validation accuracy after 100 batches is 86.14%\n",
      "batch 110 loss 9.693444836909464\n",
      "batch 120 loss 7.8785328853403\n",
      "batch 130 loss 5.6809746405857675\n",
      "batch 140 loss 5.891017182529667\n",
      "batch 150 loss 7.914660403003567\n",
      "batch 160 loss 5.173220830294975\n",
      "batch 170 loss 5.414313355901474\n",
      "batch 180 loss 6.830289069989724\n",
      "batch 190 loss 5.232579024018652\n",
      "batch 200 loss 5.896150349672265\n",
      "Validation accuracy after 200 batches is 84.60%\n",
      "batch 210 loss 4.144653182746855\n",
      "batch 220 loss 6.040723950983338\n",
      "batch 230 loss 5.010925620942249\n",
      "batch 240 loss 3.453963856522151\n",
      "batch 250 loss 3.125592235338534\n",
      "batch 260 loss 7.203666760229589\n",
      "batch 270 loss 4.827407019553993\n",
      "batch 280 loss 2.072326691031088\n",
      "batch 290 loss 2.7631027141744\n",
      "batch 300 loss 3.3377442575588034\n",
      "Validation accuracy after 300 batches is 89.88%\n",
      "batch 310 loss 5.710255696381059\n",
      "batch 320 loss 2.7632876512654616\n",
      "batch 330 loss 4.085930483082916\n",
      "batch 340 loss 2.0723270724955825\n",
      "batch 350 loss 3.4538841513244516\n",
      "batch 360 loss 5.850969378980436\n",
      "batch 370 loss 5.870019172978315\n",
      "batch 380 loss 4.044386123863219\n",
      "batch 390 loss 4.144653180017475\n",
      "batch 400 loss 3.51632207457464\n",
      "Validation accuracy after 400 batches is 88.48%\n",
      "batch 410 loss 2.7631021234726227\n",
      "batch 420 loss 5.360315562368846\n",
      "batch 430 loss 3.465729242729902\n",
      "batch 440 loss 6.0879583574081995\n",
      "batch 450 loss 7.306505351608471\n",
      "batch 460 loss 3.874871722158477\n",
      "batch 470 loss 2.2036783366087613\n",
      "batch 480 loss 4.14465318409231\n",
      "batch 490 loss 4.49338668314543\n",
      "batch 500 loss 7.033087009292356\n",
      "Validation accuracy after 500 batches is 83.40%\n",
      "batch 510 loss 4.5110953220414585\n",
      "batch 520 loss 1.381551377253516\n",
      "batch 530 loss 2.8800256595266687\n",
      "batch 540 loss 5.237879162251834\n",
      "batch 550 loss 4.144653180017475\n",
      "batch 560 loss 2.1668669279214896\n",
      "batch 570 loss 3.4538776516812293\n",
      "batch 580 loss 3.818791547400635\n",
      "batch 590 loss 4.565791190520872\n",
      "batch 600 loss 2.6781944287277457\n",
      "Validation accuracy after 600 batches is 89.65%\n",
      "batch 610 loss 4.229141686419768\n",
      "batch 620 loss 4.1446531800174755\n",
      "batch 630 loss 5.453568646442994\n",
      "batch 640 loss 4.6726733588774705\n",
      "batch 650 loss 4.406024660874349\n",
      "batch 660 loss 4.677698055623705\n",
      "batch 670 loss 5.462761887284534\n",
      "batch 680 loss 6.474227221799291\n",
      "batch 690 loss 3.3072334991096204\n",
      "batch 700 loss 1.1159620457505008\n",
      "Validation accuracy after 700 batches is 84.85%\n",
      "batch 710 loss 3.4538776516812293\n",
      "batch 720 loss 2.7631023002980006\n",
      "batch 730 loss 4.5061560211960066\n",
      "batch 740 loss 2.600369393028828\n",
      "batch 750 loss 2.7249362949645404\n",
      "batch 760 loss 2.0723266007628434\n",
      "batch 770 loss 4.83542870835372\n",
      "batch 780 loss 4.726560421354066\n",
      "batch 790 loss 3.9729559674197246\n",
      "batch 800 loss 1.83549243132634\n",
      "Validation accuracy after 800 batches is 92.39%\n",
      "batch 810 loss 4.145481730585006\n",
      "batch 820 loss 1.381937794208112\n",
      "batch 830 loss 3.453878587645856\n",
      "batch 840 loss 3.80986025870673\n",
      "batch 850 loss 5.268177818621052\n",
      "batch 860 loss 2.0723779731309206\n",
      "batch 870 loss 3.295831763683673\n",
      "batch 880 loss 3.4538859676076883\n",
      "batch 890 loss 1.1963050803793593\n",
      "batch 900 loss 3.3785965018403883\n",
      "Validation accuracy after 900 batches is 91.40%\n",
      "batch 910 loss 4.302582092774865\n",
      "batch 920 loss 2.581572594086654\n",
      "batch 930 loss 3.440050765462621\n",
      "batch 940 loss 5.526204236998295\n",
      "batch 950 loss 2.122748114847594\n",
      "batch 960 loss 2.9684260774128575\n",
      "batch 970 loss 2.4117514488432477\n",
      "batch 980 loss 5.54970212360245\n",
      "batch 990 loss 6.172972161886798\n",
      "Validation loss after 1 epochs is 3.272\n"
     ]
    }
   ],
   "source": [
    "trainer = Trainer(model, SGDMomentum(lr = 0.1, momentum=0.9))\n",
    "trainer.fit(X_train_conv, train_labels, X_test_conv, test_labels,\n",
    "            epochs = 1,\n",
    "            eval_every = 1,\n",
    "            seed=20190402,\n",
    "            batch_size=60,\n",
    "            conv_testing=True)"
   ]
  },
  {
   "cell_type": "code",
   "execution_count": 25,
   "metadata": {},
   "outputs": [
    {
     "name": "stdout",
     "output_type": "stream",
     "text": [
      "The model validation accuracy is: \n",
      "    91.41%\n"
     ]
    }
   ],
   "source": [
    "calc_accuracy_model(model, X_test_conv)"
   ]
  },
  {
   "attachments": {},
   "cell_type": "markdown",
   "metadata": {},
   "source": [
    "## Predict on New Data"
   ]
  },
  {
   "cell_type": "code",
   "execution_count": 26,
   "metadata": {},
   "outputs": [],
   "source": [
    "test_image = X_test_conv[0][0]"
   ]
  },
  {
   "cell_type": "code",
   "execution_count": 27,
   "metadata": {},
   "outputs": [
    {
     "data": {
      "text/plain": [
       "<matplotlib.image.AxesImage at 0x16a96e86920>"
      ]
     },
     "execution_count": 27,
     "metadata": {},
     "output_type": "execute_result"
    },
    {
     "data": {
      "image/png": "[encoded data removed]",
      "text/plain": [
       "<Figure size 640x480 with 1 Axes>"
      ]
     },
     "metadata": {},
     "output_type": "display_data"
    }
   ],
   "source": [
    "plt.imshow(X_test_conv[0][0])"
   ]
  },
  {
   "cell_type": "code",
   "execution_count": 28,
   "metadata": {},
   "outputs": [
    {
     "data": {
      "text/plain": [
       "7"
      ]
     },
     "execution_count": 28,
     "metadata": {},
     "output_type": "execute_result"
    }
   ],
   "source": [
    "test_image = np.expand_dims(X_test_conv[0], 0)\n",
    "prediction = model.forward(test_image, inference=True)\n",
    "np.argmax(prediction)"
   ]
  }
 ],
 "metadata": {
  "kernelspec": {
   "display_name": "Python 3",
   "language": "python",
   "name": "python3"
  },
  "language_info": {
   "codemirror_mode": {
    "name": "ipython",
    "version": 3
   },
   "file_extension": ".py",
   "mimetype": "text/x-python",
   "name": "python",
   "nbconvert_exporter": "python",
   "pygments_lexer": "ipython3",
   "version": "3.10.9"
  },
  "orig_nbformat": 4
 },
 "nbformat": 4,
 "nbformat_minor": 2
}
